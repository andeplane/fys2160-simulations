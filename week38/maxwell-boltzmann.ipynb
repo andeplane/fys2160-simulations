{
 "cells": [
  {
   "cell_type": "code",
   "execution_count": null,
   "id": "d7869dcf-9789-4298-9c65-8b34ebf52880",
   "metadata": {},
   "outputs": [],
   "source": [
    "# Add lammps_logfile to available packages.\n",
    "# This is a workaround since the lammps-logfile\n",
    "# needs to be updated. This requirement will go away later.\n",
    "import sys\n",
    "sys.path.append('/drive')\n",
    "%pip install pandas"
   ]
  },
  {
   "cell_type": "markdown",
   "id": "cd7924a9-0ac0-454f-af7c-427065dd0fc0",
   "metadata": {},
   "source": [
    "# This is an example program\n",
    "It is only intended to show you how to import trajectory data (positions and velocities) from the file _dump.lammpstrj_"
   ]
  },
  {
   "cell_type": "code",
   "execution_count": 1,
   "id": "c9110cfe",
   "metadata": {},
   "outputs": [
    {
     "ename": "ModuleNotFoundError",
     "evalue": "No module named 'ase'",
     "output_type": "error",
     "traceback": [
      "\u001b[0;31m---------------------------------------------------------------------------\u001b[0m",
      "\u001b[0;31mModuleNotFoundError\u001b[0m                       Traceback (most recent call last)",
      "Cell \u001b[0;32mIn[1], line 3\u001b[0m\n\u001b[1;32m      1\u001b[0m \u001b[38;5;28;01mimport\u001b[39;00m \u001b[38;5;21;01mnumpy\u001b[39;00m \u001b[38;5;28;01mas\u001b[39;00m \u001b[38;5;21;01mnp\u001b[39;00m\n\u001b[1;32m      2\u001b[0m \u001b[38;5;28;01mimport\u001b[39;00m \u001b[38;5;21;01mmatplotlib\u001b[39;00m\u001b[38;5;21;01m.\u001b[39;00m\u001b[38;5;21;01mpyplot\u001b[39;00m \u001b[38;5;28;01mas\u001b[39;00m \u001b[38;5;21;01mplt\u001b[39;00m\n\u001b[0;32m----> 3\u001b[0m \u001b[38;5;28;01mfrom\u001b[39;00m \u001b[38;5;21;01mase\u001b[39;00m\u001b[38;5;21;01m.\u001b[39;00m\u001b[38;5;21;01mio\u001b[39;00m \u001b[38;5;28;01mimport\u001b[39;00m read\n\u001b[1;32m      4\u001b[0m \u001b[38;5;28;01mimport\u001b[39;00m \u001b[38;5;21;01mos\u001b[39;00m\n\u001b[1;32m      6\u001b[0m \u001b[38;5;66;03m# get the current working directory\u001b[39;00m\n",
      "\u001b[0;31mModuleNotFoundError\u001b[0m: No module named 'ase'"
     ]
    }
   ],
   "source": [
    "import numpy as np\n",
    "import matplotlib.pyplot as plt\n",
    "from ase.io import read\n",
    "import os\n",
    "\n",
    "# get the current working directory\n",
    "current_working_directory = os.getcwd()\n",
    "\n",
    "# print output to the console\n",
    "print(current_working_directory)\n",
    "\n",
    "traj = read(\"dump.lammpstrj\", format=\"lammps-dump-text\", index=\":\")\n",
    "n = len(traj) # Number of timesteps\n",
    "nleft = np.zeros(n)\n",
    "vxmean = np.zeros(n)\n",
    "# Find size of simulation box\n",
    "firstframe = traj[0]\n",
    "cellshape = firstframe.get_cell()\n",
    "halfsize = cellshape[0][0]*0.5\n",
    "# Count number of particles on left side for each timestep\n",
    "it = 0\n",
    "for frame in traj:\n",
    "    x = frame.get_positions() # positions of atoms\n",
    "    xi = x[:,0] # x-coordinates of atoms\n",
    "    nleft[it] = np.sum(xi<halfsize)\n",
    "    v = frame.get_velocities() # velocities of atoms\n",
    "    vx = v[:,0] # x-component of velocities\n",
    "    vxmean[it] = np.mean(vx)\n",
    "    it = it + 1\n",
    "fig, axs = plt.subplots(2)\n",
    "fig.suptitle('functions of position and velocity')\n",
    "axs[0].plot(nleft)\n",
    "axs[1].plot(vxmean)\n"
   ]
  },
  {
   "cell_type": "code",
   "execution_count": null,
   "id": "9d62d922",
   "metadata": {},
   "outputs": [],
   "source": []
  }
 ],
 "metadata": {
  "kernelspec": {
   "display_name": "Python 3 (ipykernel)",
   "language": "python",
   "name": "python3"
  },
  "language_info": {
   "codemirror_mode": {
    "name": "ipython",
    "version": 3
   },
   "file_extension": ".py",
   "mimetype": "text/x-python",
   "name": "python",
   "nbconvert_exporter": "python",
   "pygments_lexer": "ipython3",
   "version": "3.12.2"
  },
  "toc": {
   "base_numbering": 1,
   "nav_menu": {},
   "number_sections": true,
   "sideBar": true,
   "skip_h1_title": false,
   "title_cell": "Table of Contents",
   "title_sidebar": "Contents",
   "toc_cell": false,
   "toc_position": {},
   "toc_section_display": true,
   "toc_window_display": false
  },
  "varInspector": {
   "cols": {
    "lenName": 16,
    "lenType": 16,
    "lenVar": 40
   },
   "kernels_config": {
    "python": {
     "delete_cmd_postfix": "",
     "delete_cmd_prefix": "del ",
     "library": "var_list.py",
     "varRefreshCmd": "print(var_dic_list())"
    },
    "r": {
     "delete_cmd_postfix": ") ",
     "delete_cmd_prefix": "rm(",
     "library": "var_list.r",
     "varRefreshCmd": "cat(var_dic_list()) "
    }
   },
   "types_to_exclude": [
    "module",
    "function",
    "builtin_function_or_method",
    "instance",
    "_Feature"
   ],
   "window_display": false
  }
 },
 "nbformat": 4,
 "nbformat_minor": 5
}
